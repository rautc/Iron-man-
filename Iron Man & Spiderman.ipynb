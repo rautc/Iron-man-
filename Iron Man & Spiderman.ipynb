{
 "cells": [
  {
   "cell_type": "code",
   "execution_count": null,
   "id": "395d3e2f",
   "metadata": {},
   "outputs": [],
   "source": [
    "Requirement "
   ]
  },
  {
   "cell_type": "code",
   "execution_count": null,
   "id": "09f86220",
   "metadata": {},
   "outputs": [],
   "source": [
    "!pip install turtle"
   ]
  },
  {
   "cell_type": "code",
   "execution_count": null,
   "id": "f408fdcf",
   "metadata": {},
   "outputs": [],
   "source": [
    "!pip install sketchpy"
   ]
  },
  {
   "cell_type": "code",
   "execution_count": 1,
   "id": "69a57d74",
   "metadata": {},
   "outputs": [],
   "source": [
    "#Iron man \n",
    "\n",
    "from sketchpy import library as lib\n",
    "\n",
    "obj= lib.rdj()\n",
    "\n",
    "obj.draw()"
   ]
  },
  {
   "cell_type": "code",
   "execution_count": 2,
   "id": "6ee3e77c",
   "metadata": {},
   "outputs": [],
   "source": [
    "# Spiderman\n",
    "\n",
    "from sketchpy import library as lib\n",
    "\n",
    "obj = lib.tom_holland()\n",
    "obj.draw()"
   ]
  }
 ],
 "metadata": {
  "kernelspec": {
   "display_name": "Python 3 (ipykernel)",
   "language": "python",
   "name": "python3"
  },
  "language_info": {
   "codemirror_mode": {
    "name": "ipython",
    "version": 3
   },
   "file_extension": ".py",
   "mimetype": "text/x-python",
   "name": "python",
   "nbconvert_exporter": "python",
   "pygments_lexer": "ipython3",
   "version": "3.11.7"
  }
 },
 "nbformat": 4,
 "nbformat_minor": 5
}
